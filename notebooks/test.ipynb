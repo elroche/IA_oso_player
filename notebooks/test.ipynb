{
 "cells": [
  {
   "cell_type": "markdown",
   "metadata": {},
   "source": [
    "First notebook test"
   ]
  },
  {
   "cell_type": "code",
   "execution_count": 9,
   "metadata": {},
   "outputs": [],
   "source": [
    "import numpy as np\n",
    "import cv2 as cv\n",
    "import matplotlib.pyplot as plt\n",
    "import pyautogui\n",
    "import time\n",
    "from PIL import ImageGrab"
   ]
  },
  {
   "cell_type": "code",
   "execution_count": 2,
   "metadata": {},
   "outputs": [
    {
     "data": {
      "text/plain": [
       "False"
      ]
     },
     "execution_count": 2,
     "metadata": {},
     "output_type": "execute_result"
    }
   ],
   "source": [
    "import torch\n",
    "torch.cuda.is_available()"
   ]
  },
  {
   "cell_type": "code",
   "execution_count": 55,
   "metadata": {},
   "outputs": [
    {
     "name": "stdout",
     "output_type": "stream",
     "text": [
      "0.023244619369506836\n"
     ]
    }
   ],
   "source": [
    "t = time.time()\n",
    "img = ImageGrab.grab()\n",
    "print(time.time()-t)"
   ]
  },
  {
   "cell_type": "code",
   "execution_count": 57,
   "metadata": {},
   "outputs": [
    {
     "name": "stdout",
     "output_type": "stream",
     "text": [
      "0.200575590133667\n"
     ]
    }
   ],
   "source": [
    "import mss\n",
    "import time\n",
    "\n",
    "# Set the desired frame rate (e.g., 30 Hz)\n",
    "frame_rate = 30\n",
    "t = time.time()\n",
    "with mss.mss() as sct:\n",
    "        screenshot = sct.shot()\n",
    "        time.sleep(1 / frame_rate)\n",
    "print(time.time()-t)\n"
   ]
  }
 ],
 "metadata": {
  "kernelspec": {
   "display_name": "Python 3.11.0 ('ia-osu-player-n2OVTEop-py3.11': poetry)",
   "language": "python",
   "name": "python3"
  },
  "language_info": {
   "codemirror_mode": {
    "name": "ipython",
    "version": 3
   },
   "file_extension": ".py",
   "mimetype": "text/x-python",
   "name": "python",
   "nbconvert_exporter": "python",
   "pygments_lexer": "ipython3",
   "version": "3.11.5"
  },
  "orig_nbformat": 4,
  "vscode": {
   "interpreter": {
    "hash": "10d9d9734ab0466369370336dc3bb2e7ea2eaacf9b2403b49b90262b8d0999a5"
   }
  }
 },
 "nbformat": 4,
 "nbformat_minor": 2
}
