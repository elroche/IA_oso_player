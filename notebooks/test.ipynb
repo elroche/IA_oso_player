{
 "cells": [
  {
   "cell_type": "markdown",
   "metadata": {},
   "source": [
    "First notebook test"
   ]
  },
  {
   "cell_type": "code",
   "execution_count": 1,
   "metadata": {},
   "outputs": [],
   "source": [
    "import numpy as np\n",
    "import cv2 as cv\n",
    "import matplotlib.pyplot as plt"
   ]
  },
  {
   "cell_type": "code",
   "execution_count": null,
   "metadata": {},
   "outputs": [],
   "source": [
    "import torch\n",
    "torch.cuda.is_available"
   ]
  },
  {
   "cell_type": "markdown",
   "metadata": {},
   "source": [
    "ifeuy"
   ]
  },
  {
   "cell_type": "code",
   "execution_count": null,
   "metadata": {},
   "outputs": [],
   "source": [
    "a = 1 \n",
    "b = 1"
   ]
  },
  {
   "cell_type": "code",
   "execution_count": null,
   "metadata": {},
   "outputs": [],
   "source": [
    "# Test chemin vidéo\n",
    "chemin_video = 'C:\\\\Users\\\\elear\\\\Videos\\\\Captures\\\\testVideo.mp4'"
   ]
  },
  {
   "cell_type": "code",
   "execution_count": null,
   "metadata": {},
   "outputs": [],
   "source": [
    "# Ouvrir la vidéo en utilisant OpenCV\n",
    "video_capture = cv.VideoCapture(chemin_video)"
   ]
  },
  {
   "cell_type": "code",
   "execution_count": null,
   "metadata": {},
   "outputs": [],
   "source": [
    "ret, frame = video_capture.read()\n",
    "# Vérifier si la lecture du frame a réussi\n",
    "if ret:\n",
    "    # Convertir le frame en une matrice de pixels (tableau NumPy)\n",
    "    matrice_de_pixels = np.array(frame)\n",
    "\n",
    "    # Afficher la forme (dimensions) de la matrice de pixels\n",
    "    print(\"Shape de la matrice de pixels :\", matrice_de_pixels.shape)\n",
    "\n",
    "    # Afficher la matrice de pixels comme une image\n",
    "    print(matrice_de_pixels)\n",
    "\n",
    "    plt.imshow(matrice_de_pixels)\n",
    "\n",
    "# Libérer la vidéo après avoir terminé le traitement\n",
    "video_capture.release()"
   ]
  },
  {
   "cell_type": "code",
   "execution_count": null,
   "metadata": {},
   "outputs": [],
   "source": []
  }
 ],
 "metadata": {
  "kernelspec": {
   "display_name": "Python 3.11.0 ('ia-osu-player-n2OVTEop-py3.11': poetry)",
   "language": "python",
   "name": "python3"
  },
  "language_info": {
   "codemirror_mode": {
    "name": "ipython",
    "version": 3
   },
   "file_extension": ".py",
   "mimetype": "text/x-python",
   "name": "python",
   "nbconvert_exporter": "python",
   "pygments_lexer": "ipython3",
   "version": "3.11.0"
  },
  "orig_nbformat": 4,
  "vscode": {
   "interpreter": {
    "hash": "10d9d9734ab0466369370336dc3bb2e7ea2eaacf9b2403b49b90262b8d0999a5"
   }
  }
 },
 "nbformat": 4,
 "nbformat_minor": 2
}
