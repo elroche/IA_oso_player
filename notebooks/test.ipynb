{
 "cells": [
  {
   "cell_type": "markdown",
   "metadata": {},
   "source": [
    "First notebook test"
   ]
  },
  {
   "cell_type": "code",
   "execution_count": 2,
   "metadata": {},
   "outputs": [
    {
     "name": "stdout",
     "output_type": "stream",
     "text": [
      "Unexpected exception formatting exception. Falling back to standard exception\n"
     ]
    },
    {
     "name": "stderr",
     "output_type": "stream",
     "text": [
      "Traceback (most recent call last):\n",
      "  File \"/home/user/.cache/pypoetry/virtualenvs/ia-osu-player-OScEFkWU-py3.11/lib/python3.11/site-packages/IPython/core/interactiveshell.py\", line 3526, in run_code\n",
      "  File \"/tmp/ipykernel_293/2172125874.py\", line 1, in <module>\n",
      "    import numpy\n",
      "ModuleNotFoundError: No module named 'numpy'\n",
      "\n",
      "During handling of the above exception, another exception occurred:\n",
      "\n",
      "Traceback (most recent call last):\n",
      "  File \"/home/user/.cache/pypoetry/virtualenvs/ia-osu-player-OScEFkWU-py3.11/lib/python3.11/site-packages/pygments/styles/__init__.py\", line 90, in get_style_by_name\n",
      "ModuleNotFoundError: No module named 'pygments.styles.default'\n",
      "\n",
      "During handling of the above exception, another exception occurred:\n",
      "\n",
      "Traceback (most recent call last):\n",
      "  File \"/home/user/.cache/pypoetry/virtualenvs/ia-osu-player-OScEFkWU-py3.11/lib/python3.11/site-packages/IPython/core/interactiveshell.py\", line 2120, in showtraceback\n",
      "  File \"/home/user/.cache/pypoetry/virtualenvs/ia-osu-player-OScEFkWU-py3.11/lib/python3.11/site-packages/IPython/core/ultratb.py\", line 1435, in structured_traceback\n",
      "  File \"/home/user/.cache/pypoetry/virtualenvs/ia-osu-player-OScEFkWU-py3.11/lib/python3.11/site-packages/IPython/core/ultratb.py\", line 1326, in structured_traceback\n",
      "  File \"/home/user/.cache/pypoetry/virtualenvs/ia-osu-player-OScEFkWU-py3.11/lib/python3.11/site-packages/IPython/core/ultratb.py\", line 1173, in structured_traceback\n",
      "  File \"/home/user/.cache/pypoetry/virtualenvs/ia-osu-player-OScEFkWU-py3.11/lib/python3.11/site-packages/IPython/core/ultratb.py\", line 1063, in format_exception_as_a_whole\n",
      "  File \"/home/user/.cache/pypoetry/virtualenvs/ia-osu-player-OScEFkWU-py3.11/lib/python3.11/site-packages/IPython/core/ultratb.py\", line 1114, in get_records\n",
      "  File \"/home/user/.cache/pypoetry/virtualenvs/ia-osu-player-OScEFkWU-py3.11/lib/python3.11/site-packages/pygments/styles/__init__.py\", line 92, in get_style_by_name\n",
      "pygments.util.ClassNotFound: Could not find style module 'default', though it should be builtin.\n"
     ]
    }
   ],
   "source": [
    "import numpy"
   ]
  },
  {
   "cell_type": "code",
   "execution_count": 3,
   "metadata": {},
   "outputs": [
    {
     "name": "stdout",
     "output_type": "stream",
     "text": [
      "Unexpected exception formatting exception. Falling back to standard exception\n"
     ]
    },
    {
     "name": "stderr",
     "output_type": "stream",
     "text": [
      "Traceback (most recent call last):\n",
      "  File \"/home/user/.cache/pypoetry/virtualenvs/ia-osu-player-OScEFkWU-py3.11/lib/python3.11/site-packages/IPython/core/interactiveshell.py\", line 3526, in run_code\n",
      "  File \"/tmp/ipykernel_293/4260340405.py\", line 1, in <module>\n",
      "    import torch\n",
      "ModuleNotFoundError: No module named 'torch'\n",
      "\n",
      "During handling of the above exception, another exception occurred:\n",
      "\n",
      "Traceback (most recent call last):\n",
      "  File \"/home/user/.cache/pypoetry/virtualenvs/ia-osu-player-OScEFkWU-py3.11/lib/python3.11/site-packages/pygments/styles/__init__.py\", line 90, in get_style_by_name\n",
      "ModuleNotFoundError: No module named 'pygments.styles.default'\n",
      "\n",
      "During handling of the above exception, another exception occurred:\n",
      "\n",
      "Traceback (most recent call last):\n",
      "  File \"/home/user/.cache/pypoetry/virtualenvs/ia-osu-player-OScEFkWU-py3.11/lib/python3.11/site-packages/IPython/core/interactiveshell.py\", line 2120, in showtraceback\n",
      "  File \"/home/user/.cache/pypoetry/virtualenvs/ia-osu-player-OScEFkWU-py3.11/lib/python3.11/site-packages/IPython/core/ultratb.py\", line 1435, in structured_traceback\n",
      "  File \"/home/user/.cache/pypoetry/virtualenvs/ia-osu-player-OScEFkWU-py3.11/lib/python3.11/site-packages/IPython/core/ultratb.py\", line 1326, in structured_traceback\n",
      "  File \"/home/user/.cache/pypoetry/virtualenvs/ia-osu-player-OScEFkWU-py3.11/lib/python3.11/site-packages/IPython/core/ultratb.py\", line 1173, in structured_traceback\n",
      "  File \"/home/user/.cache/pypoetry/virtualenvs/ia-osu-player-OScEFkWU-py3.11/lib/python3.11/site-packages/IPython/core/ultratb.py\", line 1063, in format_exception_as_a_whole\n",
      "  File \"/home/user/.cache/pypoetry/virtualenvs/ia-osu-player-OScEFkWU-py3.11/lib/python3.11/site-packages/IPython/core/ultratb.py\", line 1114, in get_records\n",
      "  File \"/home/user/.cache/pypoetry/virtualenvs/ia-osu-player-OScEFkWU-py3.11/lib/python3.11/site-packages/pygments/styles/__init__.py\", line 92, in get_style_by_name\n",
      "pygments.util.ClassNotFound: Could not find style module 'default', though it should be builtin.\n"
     ]
    }
   ],
   "source": [
    "import torch\n",
    "torch.cuda.is_available()"
   ]
  },
  {
   "cell_type": "markdown",
   "metadata": {},
   "source": [
    "ifeuy"
   ]
  },
  {
   "cell_type": "code",
   "execution_count": 3,
   "metadata": {},
   "outputs": [],
   "source": [
    "a = 1 \n",
    "b = 1"
   ]
  }
 ],
 "metadata": {
  "kernelspec": {
   "display_name": "ia-osu-player-aZ6Z-rMJ-py3.11",
   "language": "python",
   "name": "python3"
  },
  "language_info": {
   "codemirror_mode": {
    "name": "ipython",
    "version": 3
   },
   "file_extension": ".py",
   "mimetype": "text/x-python",
   "name": "python",
   "nbconvert_exporter": "python",
   "pygments_lexer": "ipython3",
   "version": "3.11.4"
  },
  "orig_nbformat": 4
 },
 "nbformat": 4,
 "nbformat_minor": 2
}
